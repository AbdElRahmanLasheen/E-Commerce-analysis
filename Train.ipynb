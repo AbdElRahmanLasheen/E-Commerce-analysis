{
 "cells": [
  {
   "cell_type": "code",
   "execution_count": 1,
   "id": "5a6fc0c2-7908-4d1c-af2f-b9d36af45db1",
   "metadata": {},
   "outputs": [],
   "source": [
    "#Importing Libraries\n",
    "import numpy as np\n",
    "import pandas as pd\n",
    "import matplotlib.pyplot as plt"
   ]
  },
  {
   "cell_type": "code",
   "execution_count": 2,
   "id": "7b6936f7-9944-4cc5-b962-5a68566a8cf7",
   "metadata": {},
   "outputs": [
    {
     "data": {
      "text/html": [
       "<div>\n",
       "<style scoped>\n",
       "    .dataframe tbody tr th:only-of-type {\n",
       "        vertical-align: middle;\n",
       "    }\n",
       "\n",
       "    .dataframe tbody tr th {\n",
       "        vertical-align: top;\n",
       "    }\n",
       "\n",
       "    .dataframe thead th {\n",
       "        text-align: right;\n",
       "    }\n",
       "</style>\n",
       "<table border=\"1\" class=\"dataframe\">\n",
       "  <thead>\n",
       "    <tr style=\"text-align: right;\">\n",
       "      <th></th>\n",
       "      <th>ID</th>\n",
       "      <th>Warehouse_block</th>\n",
       "      <th>Mode_of_Shipment</th>\n",
       "      <th>Customer_care_calls</th>\n",
       "      <th>Customer_rating</th>\n",
       "      <th>Cost_of_the_Product</th>\n",
       "      <th>Prior_purchases</th>\n",
       "      <th>Product_importance</th>\n",
       "      <th>Gender</th>\n",
       "      <th>Discount_offered</th>\n",
       "      <th>Weight_in_gms</th>\n",
       "      <th>Reached.on.Time_Y.N</th>\n",
       "    </tr>\n",
       "  </thead>\n",
       "  <tbody>\n",
       "    <tr>\n",
       "      <th>0</th>\n",
       "      <td>1</td>\n",
       "      <td>D</td>\n",
       "      <td>Flight</td>\n",
       "      <td>4</td>\n",
       "      <td>2</td>\n",
       "      <td>177</td>\n",
       "      <td>3</td>\n",
       "      <td>low</td>\n",
       "      <td>F</td>\n",
       "      <td>44</td>\n",
       "      <td>1233</td>\n",
       "      <td>1</td>\n",
       "    </tr>\n",
       "    <tr>\n",
       "      <th>1</th>\n",
       "      <td>2</td>\n",
       "      <td>F</td>\n",
       "      <td>Flight</td>\n",
       "      <td>4</td>\n",
       "      <td>5</td>\n",
       "      <td>216</td>\n",
       "      <td>2</td>\n",
       "      <td>low</td>\n",
       "      <td>M</td>\n",
       "      <td>59</td>\n",
       "      <td>3088</td>\n",
       "      <td>1</td>\n",
       "    </tr>\n",
       "    <tr>\n",
       "      <th>2</th>\n",
       "      <td>3</td>\n",
       "      <td>A</td>\n",
       "      <td>Flight</td>\n",
       "      <td>2</td>\n",
       "      <td>2</td>\n",
       "      <td>183</td>\n",
       "      <td>4</td>\n",
       "      <td>low</td>\n",
       "      <td>M</td>\n",
       "      <td>48</td>\n",
       "      <td>3374</td>\n",
       "      <td>1</td>\n",
       "    </tr>\n",
       "    <tr>\n",
       "      <th>3</th>\n",
       "      <td>4</td>\n",
       "      <td>B</td>\n",
       "      <td>Flight</td>\n",
       "      <td>3</td>\n",
       "      <td>3</td>\n",
       "      <td>176</td>\n",
       "      <td>4</td>\n",
       "      <td>medium</td>\n",
       "      <td>M</td>\n",
       "      <td>10</td>\n",
       "      <td>1177</td>\n",
       "      <td>1</td>\n",
       "    </tr>\n",
       "    <tr>\n",
       "      <th>4</th>\n",
       "      <td>5</td>\n",
       "      <td>C</td>\n",
       "      <td>Flight</td>\n",
       "      <td>2</td>\n",
       "      <td>2</td>\n",
       "      <td>184</td>\n",
       "      <td>3</td>\n",
       "      <td>medium</td>\n",
       "      <td>F</td>\n",
       "      <td>46</td>\n",
       "      <td>2484</td>\n",
       "      <td>1</td>\n",
       "    </tr>\n",
       "    <tr>\n",
       "      <th>...</th>\n",
       "      <td>...</td>\n",
       "      <td>...</td>\n",
       "      <td>...</td>\n",
       "      <td>...</td>\n",
       "      <td>...</td>\n",
       "      <td>...</td>\n",
       "      <td>...</td>\n",
       "      <td>...</td>\n",
       "      <td>...</td>\n",
       "      <td>...</td>\n",
       "      <td>...</td>\n",
       "      <td>...</td>\n",
       "    </tr>\n",
       "    <tr>\n",
       "      <th>10994</th>\n",
       "      <td>10995</td>\n",
       "      <td>A</td>\n",
       "      <td>Ship</td>\n",
       "      <td>4</td>\n",
       "      <td>1</td>\n",
       "      <td>252</td>\n",
       "      <td>5</td>\n",
       "      <td>medium</td>\n",
       "      <td>F</td>\n",
       "      <td>1</td>\n",
       "      <td>1538</td>\n",
       "      <td>1</td>\n",
       "    </tr>\n",
       "    <tr>\n",
       "      <th>10995</th>\n",
       "      <td>10996</td>\n",
       "      <td>B</td>\n",
       "      <td>Ship</td>\n",
       "      <td>4</td>\n",
       "      <td>1</td>\n",
       "      <td>232</td>\n",
       "      <td>5</td>\n",
       "      <td>medium</td>\n",
       "      <td>F</td>\n",
       "      <td>6</td>\n",
       "      <td>1247</td>\n",
       "      <td>0</td>\n",
       "    </tr>\n",
       "    <tr>\n",
       "      <th>10996</th>\n",
       "      <td>10997</td>\n",
       "      <td>C</td>\n",
       "      <td>Ship</td>\n",
       "      <td>5</td>\n",
       "      <td>4</td>\n",
       "      <td>242</td>\n",
       "      <td>5</td>\n",
       "      <td>low</td>\n",
       "      <td>F</td>\n",
       "      <td>4</td>\n",
       "      <td>1155</td>\n",
       "      <td>0</td>\n",
       "    </tr>\n",
       "    <tr>\n",
       "      <th>10997</th>\n",
       "      <td>10998</td>\n",
       "      <td>F</td>\n",
       "      <td>Ship</td>\n",
       "      <td>5</td>\n",
       "      <td>2</td>\n",
       "      <td>223</td>\n",
       "      <td>6</td>\n",
       "      <td>medium</td>\n",
       "      <td>M</td>\n",
       "      <td>2</td>\n",
       "      <td>1210</td>\n",
       "      <td>0</td>\n",
       "    </tr>\n",
       "    <tr>\n",
       "      <th>10998</th>\n",
       "      <td>10999</td>\n",
       "      <td>D</td>\n",
       "      <td>Ship</td>\n",
       "      <td>2</td>\n",
       "      <td>5</td>\n",
       "      <td>155</td>\n",
       "      <td>5</td>\n",
       "      <td>low</td>\n",
       "      <td>F</td>\n",
       "      <td>6</td>\n",
       "      <td>1639</td>\n",
       "      <td>0</td>\n",
       "    </tr>\n",
       "  </tbody>\n",
       "</table>\n",
       "<p>10999 rows × 12 columns</p>\n",
       "</div>"
      ],
      "text/plain": [
       "          ID Warehouse_block Mode_of_Shipment  Customer_care_calls  \\\n",
       "0          1               D           Flight                    4   \n",
       "1          2               F           Flight                    4   \n",
       "2          3               A           Flight                    2   \n",
       "3          4               B           Flight                    3   \n",
       "4          5               C           Flight                    2   \n",
       "...      ...             ...              ...                  ...   \n",
       "10994  10995               A             Ship                    4   \n",
       "10995  10996               B             Ship                    4   \n",
       "10996  10997               C             Ship                    5   \n",
       "10997  10998               F             Ship                    5   \n",
       "10998  10999               D             Ship                    2   \n",
       "\n",
       "       Customer_rating  Cost_of_the_Product  Prior_purchases  \\\n",
       "0                    2                  177                3   \n",
       "1                    5                  216                2   \n",
       "2                    2                  183                4   \n",
       "3                    3                  176                4   \n",
       "4                    2                  184                3   \n",
       "...                ...                  ...              ...   \n",
       "10994                1                  252                5   \n",
       "10995                1                  232                5   \n",
       "10996                4                  242                5   \n",
       "10997                2                  223                6   \n",
       "10998                5                  155                5   \n",
       "\n",
       "      Product_importance Gender  Discount_offered  Weight_in_gms  \\\n",
       "0                    low      F                44           1233   \n",
       "1                    low      M                59           3088   \n",
       "2                    low      M                48           3374   \n",
       "3                 medium      M                10           1177   \n",
       "4                 medium      F                46           2484   \n",
       "...                  ...    ...               ...            ...   \n",
       "10994             medium      F                 1           1538   \n",
       "10995             medium      F                 6           1247   \n",
       "10996                low      F                 4           1155   \n",
       "10997             medium      M                 2           1210   \n",
       "10998                low      F                 6           1639   \n",
       "\n",
       "       Reached.on.Time_Y.N  \n",
       "0                        1  \n",
       "1                        1  \n",
       "2                        1  \n",
       "3                        1  \n",
       "4                        1  \n",
       "...                    ...  \n",
       "10994                    1  \n",
       "10995                    0  \n",
       "10996                    0  \n",
       "10997                    0  \n",
       "10998                    0  \n",
       "\n",
       "[10999 rows x 12 columns]"
      ]
     },
     "execution_count": 2,
     "metadata": {},
     "output_type": "execute_result"
    }
   ],
   "source": [
    "#Reading E-Commerce Dataset\n",
    "train = pd.read_csv('Train.csv')\n",
    "train"
   ]
  },
  {
   "cell_type": "code",
   "execution_count": 3,
   "id": "2da36bf1-a832-4013-8416-a5ade02fdb8c",
   "metadata": {},
   "outputs": [
    {
     "data": {
      "text/plain": [
       "ID                     0\n",
       "Warehouse_block        0\n",
       "Mode_of_Shipment       0\n",
       "Customer_care_calls    0\n",
       "Customer_rating        0\n",
       "Cost_of_the_Product    0\n",
       "Prior_purchases        0\n",
       "Product_importance     0\n",
       "Gender                 0\n",
       "Discount_offered       0\n",
       "Weight_in_gms          0\n",
       "Reached.on.Time_Y.N    0\n",
       "dtype: int64"
      ]
     },
     "execution_count": 3,
     "metadata": {},
     "output_type": "execute_result"
    }
   ],
   "source": [
    "#Checking For Null Values\n",
    "train.isnull().sum()"
   ]
  },
  {
   "cell_type": "code",
   "execution_count": 4,
   "id": "a469de98-cbde-46c1-9202-2ee6d5e1ed5e",
   "metadata": {},
   "outputs": [
    {
     "data": {
      "text/plain": [
       "0"
      ]
     },
     "execution_count": 4,
     "metadata": {},
     "output_type": "execute_result"
    }
   ],
   "source": [
    "#Checking for Duplicated Values\n",
    "train.duplicated().sum()"
   ]
  },
  {
   "cell_type": "markdown",
   "id": "63f517aa-16c3-461d-9573-572f3f9d2e09",
   "metadata": {},
   "source": [
    "## 1.Shipment Efficiency:"
   ]
  },
  {
   "cell_type": "markdown",
   "id": "351514f3-9ad0-44ad-8757-2df85be38304",
   "metadata": {},
   "source": [
    "* What factors most significantly impact whether a shipment is delivered on time?\n",
    "* How does the mode of shipment (e.g., Flight, Ship) influence delivery times?"
   ]
  },
  {
   "cell_type": "code",
   "execution_count": 5,
   "id": "b4b9026f-8a9a-4e0e-ae11-1412d9980705",
   "metadata": {},
   "outputs": [
    {
     "data": {
      "text/html": [
       "<div>\n",
       "<style scoped>\n",
       "    .dataframe tbody tr th:only-of-type {\n",
       "        vertical-align: middle;\n",
       "    }\n",
       "\n",
       "    .dataframe tbody tr th {\n",
       "        vertical-align: top;\n",
       "    }\n",
       "\n",
       "    .dataframe thead th {\n",
       "        text-align: right;\n",
       "    }\n",
       "</style>\n",
       "<table border=\"1\" class=\"dataframe\">\n",
       "  <thead>\n",
       "    <tr style=\"text-align: right;\">\n",
       "      <th></th>\n",
       "      <th>Mode_of_Shipment</th>\n",
       "      <th>Product_importance</th>\n",
       "      <th>Weight_in_gms</th>\n",
       "      <th>Reached.on.Time_Y.N</th>\n",
       "    </tr>\n",
       "  </thead>\n",
       "  <tbody>\n",
       "    <tr>\n",
       "      <th>0</th>\n",
       "      <td>Flight</td>\n",
       "      <td>low</td>\n",
       "      <td>1233</td>\n",
       "      <td>1</td>\n",
       "    </tr>\n",
       "    <tr>\n",
       "      <th>1</th>\n",
       "      <td>Flight</td>\n",
       "      <td>low</td>\n",
       "      <td>3088</td>\n",
       "      <td>1</td>\n",
       "    </tr>\n",
       "    <tr>\n",
       "      <th>2</th>\n",
       "      <td>Flight</td>\n",
       "      <td>low</td>\n",
       "      <td>3374</td>\n",
       "      <td>1</td>\n",
       "    </tr>\n",
       "    <tr>\n",
       "      <th>3</th>\n",
       "      <td>Flight</td>\n",
       "      <td>medium</td>\n",
       "      <td>1177</td>\n",
       "      <td>1</td>\n",
       "    </tr>\n",
       "    <tr>\n",
       "      <th>4</th>\n",
       "      <td>Flight</td>\n",
       "      <td>medium</td>\n",
       "      <td>2484</td>\n",
       "      <td>1</td>\n",
       "    </tr>\n",
       "    <tr>\n",
       "      <th>...</th>\n",
       "      <td>...</td>\n",
       "      <td>...</td>\n",
       "      <td>...</td>\n",
       "      <td>...</td>\n",
       "    </tr>\n",
       "    <tr>\n",
       "      <th>10994</th>\n",
       "      <td>Ship</td>\n",
       "      <td>medium</td>\n",
       "      <td>1538</td>\n",
       "      <td>1</td>\n",
       "    </tr>\n",
       "    <tr>\n",
       "      <th>10995</th>\n",
       "      <td>Ship</td>\n",
       "      <td>medium</td>\n",
       "      <td>1247</td>\n",
       "      <td>0</td>\n",
       "    </tr>\n",
       "    <tr>\n",
       "      <th>10996</th>\n",
       "      <td>Ship</td>\n",
       "      <td>low</td>\n",
       "      <td>1155</td>\n",
       "      <td>0</td>\n",
       "    </tr>\n",
       "    <tr>\n",
       "      <th>10997</th>\n",
       "      <td>Ship</td>\n",
       "      <td>medium</td>\n",
       "      <td>1210</td>\n",
       "      <td>0</td>\n",
       "    </tr>\n",
       "    <tr>\n",
       "      <th>10998</th>\n",
       "      <td>Ship</td>\n",
       "      <td>low</td>\n",
       "      <td>1639</td>\n",
       "      <td>0</td>\n",
       "    </tr>\n",
       "  </tbody>\n",
       "</table>\n",
       "<p>10999 rows × 4 columns</p>\n",
       "</div>"
      ],
      "text/plain": [
       "      Mode_of_Shipment Product_importance  Weight_in_gms  Reached.on.Time_Y.N\n",
       "0               Flight                low           1233                    1\n",
       "1               Flight                low           3088                    1\n",
       "2               Flight                low           3374                    1\n",
       "3               Flight             medium           1177                    1\n",
       "4               Flight             medium           2484                    1\n",
       "...                ...                ...            ...                  ...\n",
       "10994             Ship             medium           1538                    1\n",
       "10995             Ship             medium           1247                    0\n",
       "10996             Ship                low           1155                    0\n",
       "10997             Ship             medium           1210                    0\n",
       "10998             Ship                low           1639                    0\n",
       "\n",
       "[10999 rows x 4 columns]"
      ]
     },
     "execution_count": 5,
     "metadata": {},
     "output_type": "execute_result"
    }
   ],
   "source": [
    "#Filtering for 1st Task\n",
    "train1 = train[['Mode_of_Shipment','Product_importance','Weight_in_gms','Reached.on.Time_Y.N']]\n",
    "train1"
   ]
  },
  {
   "cell_type": "code",
   "execution_count": 6,
   "id": "d1ff7832-4436-428f-a67e-1ea7ef3e484d",
   "metadata": {},
   "outputs": [
    {
     "data": {
      "text/html": [
       "<div>\n",
       "<style scoped>\n",
       "    .dataframe tbody tr th:only-of-type {\n",
       "        vertical-align: middle;\n",
       "    }\n",
       "\n",
       "    .dataframe tbody tr th {\n",
       "        vertical-align: top;\n",
       "    }\n",
       "\n",
       "    .dataframe thead th {\n",
       "        text-align: right;\n",
       "    }\n",
       "</style>\n",
       "<table border=\"1\" class=\"dataframe\">\n",
       "  <thead>\n",
       "    <tr style=\"text-align: right;\">\n",
       "      <th></th>\n",
       "      <th>Mode_of_Shipment</th>\n",
       "      <th>Product_importance</th>\n",
       "      <th>Weight_in_gms</th>\n",
       "      <th>Reached.on.Time_Y.N</th>\n",
       "    </tr>\n",
       "  </thead>\n",
       "  <tbody>\n",
       "    <tr>\n",
       "      <th>199</th>\n",
       "      <td>Ship</td>\n",
       "      <td>medium</td>\n",
       "      <td>7846</td>\n",
       "      <td>1</td>\n",
       "    </tr>\n",
       "    <tr>\n",
       "      <th>245</th>\n",
       "      <td>Ship</td>\n",
       "      <td>medium</td>\n",
       "      <td>7684</td>\n",
       "      <td>1</td>\n",
       "    </tr>\n",
       "    <tr>\n",
       "      <th>198</th>\n",
       "      <td>Ship</td>\n",
       "      <td>medium</td>\n",
       "      <td>7640</td>\n",
       "      <td>1</td>\n",
       "    </tr>\n",
       "    <tr>\n",
       "      <th>205</th>\n",
       "      <td>Ship</td>\n",
       "      <td>medium</td>\n",
       "      <td>7588</td>\n",
       "      <td>1</td>\n",
       "    </tr>\n",
       "    <tr>\n",
       "      <th>213</th>\n",
       "      <td>Ship</td>\n",
       "      <td>medium</td>\n",
       "      <td>7401</td>\n",
       "      <td>1</td>\n",
       "    </tr>\n",
       "    <tr>\n",
       "      <th>...</th>\n",
       "      <td>...</td>\n",
       "      <td>...</td>\n",
       "      <td>...</td>\n",
       "      <td>...</td>\n",
       "    </tr>\n",
       "    <tr>\n",
       "      <th>4813</th>\n",
       "      <td>Ship</td>\n",
       "      <td>medium</td>\n",
       "      <td>1003</td>\n",
       "      <td>0</td>\n",
       "    </tr>\n",
       "    <tr>\n",
       "      <th>6287</th>\n",
       "      <td>Road</td>\n",
       "      <td>medium</td>\n",
       "      <td>1002</td>\n",
       "      <td>0</td>\n",
       "    </tr>\n",
       "    <tr>\n",
       "      <th>6033</th>\n",
       "      <td>Flight</td>\n",
       "      <td>medium</td>\n",
       "      <td>1001</td>\n",
       "      <td>0</td>\n",
       "    </tr>\n",
       "    <tr>\n",
       "      <th>7155</th>\n",
       "      <td>Ship</td>\n",
       "      <td>low</td>\n",
       "      <td>1001</td>\n",
       "      <td>1</td>\n",
       "    </tr>\n",
       "    <tr>\n",
       "      <th>2663</th>\n",
       "      <td>Ship</td>\n",
       "      <td>low</td>\n",
       "      <td>1001</td>\n",
       "      <td>1</td>\n",
       "    </tr>\n",
       "  </tbody>\n",
       "</table>\n",
       "<p>10999 rows × 4 columns</p>\n",
       "</div>"
      ],
      "text/plain": [
       "     Mode_of_Shipment Product_importance  Weight_in_gms  Reached.on.Time_Y.N\n",
       "199              Ship             medium           7846                    1\n",
       "245              Ship             medium           7684                    1\n",
       "198              Ship             medium           7640                    1\n",
       "205              Ship             medium           7588                    1\n",
       "213              Ship             medium           7401                    1\n",
       "...               ...                ...            ...                  ...\n",
       "4813             Ship             medium           1003                    0\n",
       "6287             Road             medium           1002                    0\n",
       "6033           Flight             medium           1001                    0\n",
       "7155             Ship                low           1001                    1\n",
       "2663             Ship                low           1001                    1\n",
       "\n",
       "[10999 rows x 4 columns]"
      ]
     },
     "execution_count": 6,
     "metadata": {},
     "output_type": "execute_result"
    }
   ],
   "source": [
    "#sorting values based on Weight in Grams\n",
    "train1.sort_values(by='Weight_in_gms', ascending=False)"
   ]
  },
  {
   "cell_type": "code",
   "execution_count": 7,
   "id": "10a4f302-f19b-4c24-9556-6a6b5addb93b",
   "metadata": {},
   "outputs": [],
   "source": [
    "#Defragment Dataset to Identify Crucial Points\n",
    "Slim = train1[train1['Weight_in_gms'] <= 3000]\n",
    "Fat = train1[train1['Weight_in_gms'] >= 3000]\n",
    "Low = train1[train1['Product_importance'] == 'low']\n",
    "Mid = train1[train1['Product_importance'] == 'medium']\n",
    "High = train1[train1['Product_importance'] == 'high']"
   ]
  },
  {
   "cell_type": "code",
   "execution_count": 8,
   "id": "6a0b5122-79e4-42a3-98ac-ab2639bd7190",
   "metadata": {},
   "outputs": [
    {
     "name": "stdout",
     "output_type": "stream",
     "text": [
      "Delivery Evaluation on Slim :  3098 / 1046\n",
      "Delivery Evaluation on Fat :  3465 / 3390\n",
      "Delivery Evaluation on Low :  3140 / 2157\n",
      "Delivery Evaluation on Medium :  2807 / 1947\n",
      "Delivery Evaluation on High :  616 / 332\n"
     ]
    }
   ],
   "source": [
    "#Displaying Ontime / Late arrivals based on slim & big transports as well as product importance to be handled with care\n",
    "print('Delivery Evaluation on Slim : ',(Slim['Reached.on.Time_Y.N'] == 1).sum(), '/' ,(Slim['Reached.on.Time_Y.N'] == 0).sum())\n",
    "print('Delivery Evaluation on Fat : ',(Fat['Reached.on.Time_Y.N'] == 1).sum(), '/' ,(Fat['Reached.on.Time_Y.N'] == 0).sum())\n",
    "print('Delivery Evaluation on Low : ',(Low['Reached.on.Time_Y.N'] == 1).sum(),'/',(Low['Reached.on.Time_Y.N'] == 0).sum())\n",
    "print('Delivery Evaluation on Medium : ',(Mid['Reached.on.Time_Y.N'] == 1).sum(),'/',(Mid['Reached.on.Time_Y.N'] == 0).sum())\n",
    "print('Delivery Evaluation on High : ',(High['Reached.on.Time_Y.N'] == 1).sum(), '/',(High['Reached.on.Time_Y.N'] == 0).sum())"
   ]
  },
  {
   "cell_type": "code",
   "execution_count": 9,
   "id": "618b13ae-2287-4ef9-988d-1d177e422e2b",
   "metadata": {},
   "outputs": [],
   "source": [
    "#Same process but with shipment methods\n",
    "Air = train1[train1['Mode_of_Shipment'] == 'Flight']\n",
    "Land = train1[train1['Mode_of_Shipment'] == 'Road']\n",
    "Sea = train1[train1['Mode_of_Shipment'] == 'Ship']"
   ]
  },
  {
   "cell_type": "code",
   "execution_count": 10,
   "id": "95bb7cd9-5205-4c47-868a-14f0d53f61ce",
   "metadata": {},
   "outputs": [
    {
     "name": "stdout",
     "output_type": "stream",
     "text": [
      "Delivery Evaluation on Planes :  1069 / 708\n",
      "Delivery Evaluation on Vehicles :  1035 / 725\n",
      "Delivery Evaluation on Ships :  4459 / 3003\n"
     ]
    }
   ],
   "source": [
    "print('Delivery Evaluation on Planes : ',(Air['Reached.on.Time_Y.N'] == 1).sum(), '/' ,(Air['Reached.on.Time_Y.N'] == 0).sum())\n",
    "print('Delivery Evaluation on Vehicles : ',(Land['Reached.on.Time_Y.N'] == 1).sum(), '/' ,(Land['Reached.on.Time_Y.N'] == 0).sum())\n",
    "print('Delivery Evaluation on Ships : ',(Sea['Reached.on.Time_Y.N'] == 1).sum(), '/' ,(Sea['Reached.on.Time_Y.N'] == 0).sum())"
   ]
  },
  {
   "cell_type": "code",
   "execution_count": 11,
   "id": "edb9365e-8bf8-4290-bb8c-c1de6aad4ebe",
   "metadata": {},
   "outputs": [],
   "source": [
    "#assembling each sum of values into their respective variable to be used in a chart\n",
    "SY = (Slim['Reached.on.Time_Y.N'] == 1).sum()\n",
    "SN = (Slim['Reached.on.Time_Y.N'] == 0).sum()\n",
    "FY = (Fat['Reached.on.Time_Y.N'] == 1).sum()\n",
    "FN = (Fat['Reached.on.Time_Y.N'] == 0).sum()\n",
    "LY = (Low['Reached.on.Time_Y.N'] == 1).sum()\n",
    "LN = (Low['Reached.on.Time_Y.N'] == 0).sum()\n",
    "MY = (Mid['Reached.on.Time_Y.N'] == 1).sum()\n",
    "MN = (Mid['Reached.on.Time_Y.N'] == 0).sum()\n",
    "HY = (High['Reached.on.Time_Y.N'] == 1).sum()\n",
    "HN = (High['Reached.on.Time_Y.N'] == 0).sum()\n",
    "AY = (Air['Reached.on.Time_Y.N'] == 1).sum()\n",
    "AN = (Air['Reached.on.Time_Y.N'] == 0).sum()\n",
    "LaY = (Land['Reached.on.Time_Y.N'] == 1).sum()\n",
    "LaN = (Land['Reached.on.Time_Y.N'] == 0).sum()\n",
    "SeY = (Sea['Reached.on.Time_Y.N'] == 1).sum()\n",
    "SeN = (Sea['Reached.on.Time_Y.N'] == 0).sum()"
   ]
  },
  {
   "cell_type": "code",
   "execution_count": 12,
   "id": "94728256-388c-4814-a1a9-3cf2ae4d0d3d",
   "metadata": {},
   "outputs": [],
   "source": [
    "#Weight Pie Chart\n",
    "data = {\n",
    "    'Category': ['Slim: On-Time', 'Slim: Late Arrival', 'Fat: On-Time', 'Fat: Late Arrival'],\n",
    "    'Count': [SY, SN, FY, FN]\n",
    "}\n",
    "\n",
    "df = pd.DataFrame(data)"
   ]
  },
  {
   "cell_type": "code",
   "execution_count": 13,
   "id": "e276497a-c24b-4ac7-b213-f03661368f1e",
   "metadata": {},
   "outputs": [
    {
     "data": {
      "image/png": "[encoded data removed]",
      "text/plain": [
       "<Figure size 800x800 with 1 Axes>"
      ]
     },
     "metadata": {},
     "output_type": "display_data"
    }
   ],
   "source": [
    "df.set_index('Category')['Count'].plot.pie(\n",
    "    autopct='%1.1f%%', \n",
    "    figsize=(8, 8), \n",
    "    startangle=90, \n",
    "    colors=['#66b3ff', '#ff6666', '#99ff99', '#ffcc99']\n",
    ")\n",
    "plt.title('Pie Chart of Reach Status (Slim vs Fat)')\n",
    "plt.ylabel('') \n",
    "plt.show()"
   ]
  },
  {
   "cell_type": "code",
   "execution_count": 14,
   "id": "083daa95-5639-422e-81a7-70f3e42f75f0",
   "metadata": {},
   "outputs": [],
   "source": [
    "#Product Importance Pie Chart\n",
    "data = {\n",
    "    'Category': ['Low: On-Time', 'Low: Late Arrival', 'Medium: On-Time', 'Medium: Late Arrival', 'High: On-Time', 'High: Late Arrival'],\n",
    "    'Count': [LY, LN, MY, MN, HY, HN]\n",
    "}\n",
    "\n",
    "df = pd.DataFrame(data)"
   ]
  },
  {
   "cell_type": "code",
   "execution_count": 15,
   "id": "28029997-4064-451c-a39a-e104f72e7382",
   "metadata": {},
   "outputs": [
    {
     "data": {
      "image/png": "[encoded data removed]",
      "text/plain": [
       "<Figure size 800x800 with 1 Axes>"
      ]
     },
     "metadata": {},
     "output_type": "display_data"
    }
   ],
   "source": [
    "df.set_index('Category')['Count'].plot.pie(\n",
    "    autopct='%1.1f%%', \n",
    "    figsize=(8, 8), \n",
    "    startangle=90, \n",
    "    colors=['#66b3ff', '#ff6666', '#99ff99', '#ffcc99']\n",
    ")\n",
    "plt.title('Pie Chart of Reach Status (Low vs Medium vs High)')\n",
    "plt.ylabel('') \n",
    "plt.show()"
   ]
  },
  {
   "cell_type": "code",
   "execution_count": 16,
   "id": "2f5fb8b0-9678-4be7-8f26-b0cd483282db",
   "metadata": {},
   "outputs": [],
   "source": [
    "data = {\n",
    "    'Category': ['Flight: On-Time', 'Flight: Late Arrival', 'Road: On-Time', 'Road: Late Arrival', 'Ship: On-Time', 'Ship: Late Arrival'],\n",
    "    'Count': [FY, FN, LaY, LaN, SeY, SeN]\n",
    "}\n",
    "\n",
    "df = pd.DataFrame(data)"
   ]
  },
  {
   "cell_type": "code",
   "execution_count": 17,
   "id": "fb66f9e9-eb51-4119-848d-52afdb1e38be",
   "metadata": {},
   "outputs": [
    {
     "data": {
      "image/png": "[encoded data removed]",
      "text/plain": [
       "<Figure size 800x800 with 1 Axes>"
      ]
     },
     "metadata": {},
     "output_type": "display_data"
    }
   ],
   "source": [
    "df.set_index('Category')['Count'].plot.pie(\n",
    "    autopct='%1.1f%%', \n",
    "    figsize=(8, 8), \n",
    "    startangle=90, \n",
    "    colors=['#66b3ff', '#ff6666', '#99ff99', '#ffcc99']\n",
    ")\n",
    "plt.title('Pie Chart of Reach Status (Air vs Land vs Sea)')\n",
    "plt.ylabel('')\n",
    "plt.show()"
   ]
  },
  {
   "cell_type": "markdown",
   "id": "ae2a5f81-a225-43f2-a639-3e51187584c8",
   "metadata": {},
   "source": [
    "## 2.Customer Insights:"
   ]
  },
  {
   "cell_type": "markdown",
   "id": "ff7680f0-e7c8-4c94-aed9-b6e2357bba46",
   "metadata": {},
   "source": [
    "* Is there a correlation between the number of customer care calls and the customer rating?\n",
    "* How does the discount offered affect customer satisfaction ratings?"
   ]
  },
  {
   "cell_type": "code",
   "execution_count": 18,
   "id": "94cb884c-cdc1-4bf1-a2ed-9b2e0010a060",
   "metadata": {},
   "outputs": [
    {
     "data": {
      "text/html": [
       "<div>\n",
       "<style scoped>\n",
       "    .dataframe tbody tr th:only-of-type {\n",
       "        vertical-align: middle;\n",
       "    }\n",
       "\n",
       "    .dataframe tbody tr th {\n",
       "        vertical-align: top;\n",
       "    }\n",
       "\n",
       "    .dataframe thead th {\n",
       "        text-align: right;\n",
       "    }\n",
       "</style>\n",
       "<table border=\"1\" class=\"dataframe\">\n",
       "  <thead>\n",
       "    <tr style=\"text-align: right;\">\n",
       "      <th></th>\n",
       "      <th>ID</th>\n",
       "      <th>Customer_care_calls</th>\n",
       "      <th>Customer_rating</th>\n",
       "      <th>Discount_offered</th>\n",
       "    </tr>\n",
       "  </thead>\n",
       "  <tbody>\n",
       "    <tr>\n",
       "      <th>0</th>\n",
       "      <td>1</td>\n",
       "      <td>4</td>\n",
       "      <td>2</td>\n",
       "      <td>44</td>\n",
       "    </tr>\n",
       "    <tr>\n",
       "      <th>1</th>\n",
       "      <td>2</td>\n",
       "      <td>4</td>\n",
       "      <td>5</td>\n",
       "      <td>59</td>\n",
       "    </tr>\n",
       "    <tr>\n",
       "      <th>2</th>\n",
       "      <td>3</td>\n",
       "      <td>2</td>\n",
       "      <td>2</td>\n",
       "      <td>48</td>\n",
       "    </tr>\n",
       "    <tr>\n",
       "      <th>3</th>\n",
       "      <td>4</td>\n",
       "      <td>3</td>\n",
       "      <td>3</td>\n",
       "      <td>10</td>\n",
       "    </tr>\n",
       "    <tr>\n",
       "      <th>4</th>\n",
       "      <td>5</td>\n",
       "      <td>2</td>\n",
       "      <td>2</td>\n",
       "      <td>46</td>\n",
       "    </tr>\n",
       "  </tbody>\n",
       "</table>\n",
       "</div>"
      ],
      "text/plain": [
       "   ID  Customer_care_calls  Customer_rating  Discount_offered\n",
       "0   1                    4                2                44\n",
       "1   2                    4                5                59\n",
       "2   3                    2                2                48\n",
       "3   4                    3                3                10\n",
       "4   5                    2                2                46"
      ]
     },
     "execution_count": 18,
     "metadata": {},
     "output_type": "execute_result"
    }
   ],
   "source": [
    "train2 = train[['ID','Customer_care_calls','Customer_rating','Discount_offered']]\n",
    "train2.head()"
   ]
  },
  {
   "cell_type": "code",
   "execution_count": 19,
   "id": "5dec12ef-d783-468b-9d0f-51fb7d26541a",
   "metadata": {},
   "outputs": [
    {
     "name": "stdout",
     "output_type": "stream",
     "text": [
      "0.0122 There is a Weak Positive Correlation Between Them\n"
     ]
    }
   ],
   "source": [
    "#Calculating Correlation between Customer Care Calls and Rating\n",
    "correlation = train2['Customer_care_calls'].corr(train2['Customer_rating'])\n",
    "print(round(correlation, 4), 'There is a Weak Positive Correlation Between Them')"
   ]
  },
  {
   "cell_type": "code",
   "execution_count": 20,
   "id": "7ba131a3-b9ad-4886-befe-3610e4fd2ba4",
   "metadata": {},
   "outputs": [
    {
     "data": {
      "text/html": [
       "<div>\n",
       "<style scoped>\n",
       "    .dataframe tbody tr th:only-of-type {\n",
       "        vertical-align: middle;\n",
       "    }\n",
       "\n",
       "    .dataframe tbody tr th {\n",
       "        vertical-align: top;\n",
       "    }\n",
       "\n",
       "    .dataframe thead th {\n",
       "        text-align: right;\n",
       "    }\n",
       "</style>\n",
       "<table border=\"1\" class=\"dataframe\">\n",
       "  <thead>\n",
       "    <tr style=\"text-align: right;\">\n",
       "      <th></th>\n",
       "      <th>ID</th>\n",
       "      <th>Customer_care_calls</th>\n",
       "      <th>Customer_rating</th>\n",
       "      <th>Discount_offered</th>\n",
       "    </tr>\n",
       "  </thead>\n",
       "  <tbody>\n",
       "    <tr>\n",
       "      <th>2417</th>\n",
       "      <td>2418</td>\n",
       "      <td>3</td>\n",
       "      <td>4</td>\n",
       "      <td>65</td>\n",
       "    </tr>\n",
       "    <tr>\n",
       "      <th>624</th>\n",
       "      <td>625</td>\n",
       "      <td>4</td>\n",
       "      <td>3</td>\n",
       "      <td>65</td>\n",
       "    </tr>\n",
       "    <tr>\n",
       "      <th>276</th>\n",
       "      <td>277</td>\n",
       "      <td>4</td>\n",
       "      <td>2</td>\n",
       "      <td>65</td>\n",
       "    </tr>\n",
       "    <tr>\n",
       "      <th>740</th>\n",
       "      <td>741</td>\n",
       "      <td>4</td>\n",
       "      <td>5</td>\n",
       "      <td>65</td>\n",
       "    </tr>\n",
       "    <tr>\n",
       "      <th>2823</th>\n",
       "      <td>2824</td>\n",
       "      <td>2</td>\n",
       "      <td>4</td>\n",
       "      <td>65</td>\n",
       "    </tr>\n",
       "    <tr>\n",
       "      <th>...</th>\n",
       "      <td>...</td>\n",
       "      <td>...</td>\n",
       "      <td>...</td>\n",
       "      <td>...</td>\n",
       "    </tr>\n",
       "    <tr>\n",
       "      <th>6976</th>\n",
       "      <td>6977</td>\n",
       "      <td>6</td>\n",
       "      <td>5</td>\n",
       "      <td>1</td>\n",
       "    </tr>\n",
       "    <tr>\n",
       "      <th>3863</th>\n",
       "      <td>3864</td>\n",
       "      <td>2</td>\n",
       "      <td>4</td>\n",
       "      <td>1</td>\n",
       "    </tr>\n",
       "    <tr>\n",
       "      <th>6979</th>\n",
       "      <td>6980</td>\n",
       "      <td>3</td>\n",
       "      <td>5</td>\n",
       "      <td>1</td>\n",
       "    </tr>\n",
       "    <tr>\n",
       "      <th>5681</th>\n",
       "      <td>5682</td>\n",
       "      <td>5</td>\n",
       "      <td>4</td>\n",
       "      <td>1</td>\n",
       "    </tr>\n",
       "    <tr>\n",
       "      <th>7599</th>\n",
       "      <td>7600</td>\n",
       "      <td>5</td>\n",
       "      <td>3</td>\n",
       "      <td>1</td>\n",
       "    </tr>\n",
       "  </tbody>\n",
       "</table>\n",
       "<p>10999 rows × 4 columns</p>\n",
       "</div>"
      ],
      "text/plain": [
       "        ID  Customer_care_calls  Customer_rating  Discount_offered\n",
       "2417  2418                    3                4                65\n",
       "624    625                    4                3                65\n",
       "276    277                    4                2                65\n",
       "740    741                    4                5                65\n",
       "2823  2824                    2                4                65\n",
       "...    ...                  ...              ...               ...\n",
       "6976  6977                    6                5                 1\n",
       "3863  3864                    2                4                 1\n",
       "6979  6980                    3                5                 1\n",
       "5681  5682                    5                4                 1\n",
       "7599  7600                    5                3                 1\n",
       "\n",
       "[10999 rows x 4 columns]"
      ]
     },
     "execution_count": 20,
     "metadata": {},
     "output_type": "execute_result"
    }
   ],
   "source": [
    "#Sorting using the Highest Discounts\n",
    "train2.sort_values(by='Discount_offered', ascending=False)"
   ]
  },
  {
   "cell_type": "code",
   "execution_count": 21,
   "id": "ec85851d-1085-4c44-9c81-b4ffc4e7330f",
   "metadata": {},
   "outputs": [
    {
     "data": {
      "text/html": [
       "<div>\n",
       "<style scoped>\n",
       "    .dataframe tbody tr th:only-of-type {\n",
       "        vertical-align: middle;\n",
       "    }\n",
       "\n",
       "    .dataframe tbody tr th {\n",
       "        vertical-align: top;\n",
       "    }\n",
       "\n",
       "    .dataframe thead th {\n",
       "        text-align: right;\n",
       "    }\n",
       "</style>\n",
       "<table border=\"1\" class=\"dataframe\">\n",
       "  <thead>\n",
       "    <tr style=\"text-align: right;\">\n",
       "      <th></th>\n",
       "      <th>ID</th>\n",
       "      <th>Customer_care_calls</th>\n",
       "      <th>Customer_rating</th>\n",
       "      <th>Discount_offered</th>\n",
       "    </tr>\n",
       "  </thead>\n",
       "  <tbody>\n",
       "    <tr>\n",
       "      <th>0</th>\n",
       "      <td>1</td>\n",
       "      <td>4</td>\n",
       "      <td>2</td>\n",
       "      <td>44</td>\n",
       "    </tr>\n",
       "    <tr>\n",
       "      <th>1</th>\n",
       "      <td>2</td>\n",
       "      <td>4</td>\n",
       "      <td>5</td>\n",
       "      <td>59</td>\n",
       "    </tr>\n",
       "    <tr>\n",
       "      <th>2</th>\n",
       "      <td>3</td>\n",
       "      <td>2</td>\n",
       "      <td>2</td>\n",
       "      <td>48</td>\n",
       "    </tr>\n",
       "    <tr>\n",
       "      <th>4</th>\n",
       "      <td>5</td>\n",
       "      <td>2</td>\n",
       "      <td>2</td>\n",
       "      <td>46</td>\n",
       "    </tr>\n",
       "    <tr>\n",
       "      <th>7</th>\n",
       "      <td>8</td>\n",
       "      <td>4</td>\n",
       "      <td>1</td>\n",
       "      <td>48</td>\n",
       "    </tr>\n",
       "    <tr>\n",
       "      <th>...</th>\n",
       "      <td>...</td>\n",
       "      <td>...</td>\n",
       "      <td>...</td>\n",
       "      <td>...</td>\n",
       "    </tr>\n",
       "    <tr>\n",
       "      <th>3125</th>\n",
       "      <td>3126</td>\n",
       "      <td>4</td>\n",
       "      <td>4</td>\n",
       "      <td>41</td>\n",
       "    </tr>\n",
       "    <tr>\n",
       "      <th>3126</th>\n",
       "      <td>3127</td>\n",
       "      <td>3</td>\n",
       "      <td>1</td>\n",
       "      <td>48</td>\n",
       "    </tr>\n",
       "    <tr>\n",
       "      <th>3130</th>\n",
       "      <td>3131</td>\n",
       "      <td>6</td>\n",
       "      <td>5</td>\n",
       "      <td>50</td>\n",
       "    </tr>\n",
       "    <tr>\n",
       "      <th>3131</th>\n",
       "      <td>3132</td>\n",
       "      <td>4</td>\n",
       "      <td>1</td>\n",
       "      <td>55</td>\n",
       "    </tr>\n",
       "    <tr>\n",
       "      <th>3133</th>\n",
       "      <td>3134</td>\n",
       "      <td>3</td>\n",
       "      <td>4</td>\n",
       "      <td>58</td>\n",
       "    </tr>\n",
       "  </tbody>\n",
       "</table>\n",
       "<p>1672 rows × 4 columns</p>\n",
       "</div>"
      ],
      "text/plain": [
       "        ID  Customer_care_calls  Customer_rating  Discount_offered\n",
       "0        1                    4                2                44\n",
       "1        2                    4                5                59\n",
       "2        3                    2                2                48\n",
       "4        5                    2                2                46\n",
       "7        8                    4                1                48\n",
       "...    ...                  ...              ...               ...\n",
       "3125  3126                    4                4                41\n",
       "3126  3127                    3                1                48\n",
       "3130  3131                    6                5                50\n",
       "3131  3132                    4                1                55\n",
       "3133  3134                    3                4                58\n",
       "\n",
       "[1672 rows x 4 columns]"
      ]
     },
     "execution_count": 21,
     "metadata": {},
     "output_type": "execute_result"
    }
   ],
   "source": [
    "# Acquiring High Discounts to identify relationship\n",
    "Discount = train2[train2['Discount_offered'] >= 32]\n",
    "Discount"
   ]
  },
  {
   "cell_type": "code",
   "execution_count": 22,
   "id": "8c817e7d-b8d9-4e42-bf34-cc735ae8d258",
   "metadata": {},
   "outputs": [
    {
     "data": {
      "text/plain": [
       "Customer_rating\n",
       "1    343\n",
       "4    338\n",
       "2    337\n",
       "5    335\n",
       "3    319\n",
       "Name: count, dtype: int64"
      ]
     },
     "execution_count": 22,
     "metadata": {},
     "output_type": "execute_result"
    }
   ],
   "source": [
    "rate = Discount['Customer_rating'].value_counts()\n",
    "rate"
   ]
  },
  {
   "cell_type": "code",
   "execution_count": 23,
   "id": "cab32834-3e7b-4966-a716-05622fa33944",
   "metadata": {},
   "outputs": [
    {
     "data": {
      "image/png": "[encoded data removed]",
      "text/plain": [
       "<Figure size 800x600 with 1 Axes>"
      ]
     },
     "metadata": {},
     "output_type": "display_data"
    }
   ],
   "source": [
    "plt.figure(figsize=(8, 6))\n",
    "plt.bar(rate.index, rate.values, color='magenta', edgecolor='black')\n",
    "plt.title('Distribution of Customer Ratings', fontsize=14)\n",
    "plt.xlabel('Customer Rating', fontsize=12)\n",
    "plt.ylabel('No. of Customers', fontsize=12)\n",
    "\n",
    "for i, v in enumerate(rate.values):\n",
    "    plt.text(rate.index[i], v + 1, str(v), ha='center', fontsize=10)\n",
    "\n",
    "plt.grid(axis='y', alpha=0.3)\n",
    "\n",
    "plt.show()"
   ]
  },
  {
   "cell_type": "markdown",
   "id": "c92e64d1-d8ad-4685-b934-01f0385cf6e7",
   "metadata": {},
   "source": [
    "## 3.Product Analysis:"
   ]
  },
  {
   "cell_type": "markdown",
   "id": "23096638-ba46-4281-87c7-3911c0af4229",
   "metadata": {},
   "source": [
    "* Do products with higher weights tend to have more delayed deliveries?\n",
    "* How does the cost of a product relate to its prioritization (e.g., \"low,\" \"medium,\" \"high\")?"
   ]
  },
  {
   "cell_type": "code",
   "execution_count": 24,
   "id": "c5db01e6-fd22-43ec-bfa1-cb655564563d",
   "metadata": {},
   "outputs": [
    {
     "data": {
      "text/html": [
       "<div>\n",
       "<style scoped>\n",
       "    .dataframe tbody tr th:only-of-type {\n",
       "        vertical-align: middle;\n",
       "    }\n",
       "\n",
       "    .dataframe tbody tr th {\n",
       "        vertical-align: top;\n",
       "    }\n",
       "\n",
       "    .dataframe thead th {\n",
       "        text-align: right;\n",
       "    }\n",
       "</style>\n",
       "<table border=\"1\" class=\"dataframe\">\n",
       "  <thead>\n",
       "    <tr style=\"text-align: right;\">\n",
       "      <th></th>\n",
       "      <th>Cost_of_the_Product</th>\n",
       "      <th>Product_importance</th>\n",
       "    </tr>\n",
       "  </thead>\n",
       "  <tbody>\n",
       "    <tr>\n",
       "      <th>0</th>\n",
       "      <td>177</td>\n",
       "      <td>low</td>\n",
       "    </tr>\n",
       "    <tr>\n",
       "      <th>1</th>\n",
       "      <td>216</td>\n",
       "      <td>low</td>\n",
       "    </tr>\n",
       "    <tr>\n",
       "      <th>2</th>\n",
       "      <td>183</td>\n",
       "      <td>low</td>\n",
       "    </tr>\n",
       "    <tr>\n",
       "      <th>3</th>\n",
       "      <td>176</td>\n",
       "      <td>medium</td>\n",
       "    </tr>\n",
       "    <tr>\n",
       "      <th>4</th>\n",
       "      <td>184</td>\n",
       "      <td>medium</td>\n",
       "    </tr>\n",
       "    <tr>\n",
       "      <th>...</th>\n",
       "      <td>...</td>\n",
       "      <td>...</td>\n",
       "    </tr>\n",
       "    <tr>\n",
       "      <th>10994</th>\n",
       "      <td>252</td>\n",
       "      <td>medium</td>\n",
       "    </tr>\n",
       "    <tr>\n",
       "      <th>10995</th>\n",
       "      <td>232</td>\n",
       "      <td>medium</td>\n",
       "    </tr>\n",
       "    <tr>\n",
       "      <th>10996</th>\n",
       "      <td>242</td>\n",
       "      <td>low</td>\n",
       "    </tr>\n",
       "    <tr>\n",
       "      <th>10997</th>\n",
       "      <td>223</td>\n",
       "      <td>medium</td>\n",
       "    </tr>\n",
       "    <tr>\n",
       "      <th>10998</th>\n",
       "      <td>155</td>\n",
       "      <td>low</td>\n",
       "    </tr>\n",
       "  </tbody>\n",
       "</table>\n",
       "<p>10999 rows × 2 columns</p>\n",
       "</div>"
      ],
      "text/plain": [
       "       Cost_of_the_Product Product_importance\n",
       "0                      177                low\n",
       "1                      216                low\n",
       "2                      183                low\n",
       "3                      176             medium\n",
       "4                      184             medium\n",
       "...                    ...                ...\n",
       "10994                  252             medium\n",
       "10995                  232             medium\n",
       "10996                  242                low\n",
       "10997                  223             medium\n",
       "10998                  155                low\n",
       "\n",
       "[10999 rows x 2 columns]"
      ]
     },
     "execution_count": 24,
     "metadata": {},
     "output_type": "execute_result"
    }
   ],
   "source": [
    "train3 = train[['Cost_of_the_Product','Product_importance']]\n",
    "train3"
   ]
  },
  {
   "cell_type": "code",
   "execution_count": 25,
   "id": "bf7e9233-6e2a-4277-a09a-ea10bb78e7bd",
   "metadata": {},
   "outputs": [
    {
     "data": {
      "text/html": [
       "<div>\n",
       "<style scoped>\n",
       "    .dataframe tbody tr th:only-of-type {\n",
       "        vertical-align: middle;\n",
       "    }\n",
       "\n",
       "    .dataframe tbody tr th {\n",
       "        vertical-align: top;\n",
       "    }\n",
       "\n",
       "    .dataframe thead th {\n",
       "        text-align: right;\n",
       "    }\n",
       "</style>\n",
       "<table border=\"1\" class=\"dataframe\">\n",
       "  <thead>\n",
       "    <tr style=\"text-align: right;\">\n",
       "      <th></th>\n",
       "      <th>Cost_of_the_Product</th>\n",
       "      <th>Product_importance</th>\n",
       "    </tr>\n",
       "  </thead>\n",
       "  <tbody>\n",
       "    <tr>\n",
       "      <th>91</th>\n",
       "      <td>286</td>\n",
       "      <td>low</td>\n",
       "    </tr>\n",
       "    <tr>\n",
       "      <th>133</th>\n",
       "      <td>280</td>\n",
       "      <td>medium</td>\n",
       "    </tr>\n",
       "    <tr>\n",
       "      <th>262</th>\n",
       "      <td>294</td>\n",
       "      <td>low</td>\n",
       "    </tr>\n",
       "    <tr>\n",
       "      <th>465</th>\n",
       "      <td>294</td>\n",
       "      <td>low</td>\n",
       "    </tr>\n",
       "    <tr>\n",
       "      <th>486</th>\n",
       "      <td>294</td>\n",
       "      <td>low</td>\n",
       "    </tr>\n",
       "  </tbody>\n",
       "</table>\n",
       "</div>"
      ],
      "text/plain": [
       "     Cost_of_the_Product Product_importance\n",
       "91                   286                low\n",
       "133                  280             medium\n",
       "262                  294                low\n",
       "465                  294                low\n",
       "486                  294                low"
      ]
     },
     "execution_count": 25,
     "metadata": {},
     "output_type": "execute_result"
    }
   ],
   "source": [
    "e = train3.sort_values(by='Cost_of_the_Product', ascending=False)\n",
    "f= train3[train3['Cost_of_the_Product'] >= 280]\n",
    "f.head()"
   ]
  },
  {
   "cell_type": "code",
   "execution_count": 26,
   "id": "9a685269-075e-4326-af41-ed59eeb5e2a5",
   "metadata": {},
   "outputs": [
    {
     "name": "stdout",
     "output_type": "stream",
     "text": [
      "Product_importance\n",
      "high       193270\n",
      "low       1123281\n",
      "medium     995404\n",
      "Name: Cost_of_the_Product, dtype: int64\n"
     ]
    }
   ],
   "source": [
    "status_sums = train3.groupby('Product_importance')['Cost_of_the_Product'].sum()\n",
    "print(status_sums)"
   ]
  },
  {
   "cell_type": "code",
   "execution_count": 27,
   "id": "8b465637-d4df-44e8-8f75-2d5597430799",
   "metadata": {},
   "outputs": [
    {
     "data": {
      "image/png": "[encoded data removed]",
      "text/plain": [
       "<Figure size 800x800 with 1 Axes>"
      ]
     },
     "metadata": {},
     "output_type": "display_data"
    }
   ],
   "source": [
    "plt.figure(figsize=(8, 8))\n",
    "plt.pie(status_sums, labels=status_sums.index, autopct='%1.1f%%', startangle=90, colors=['Blue', 'Red', 'Green'])\n",
    "\n",
    "plt.title('Cost of Product Distribution by Product Importance', fontsize=14)\n",
    "\n",
    "plt.show()"
   ]
  },
  {
   "cell_type": "markdown",
   "id": "4cbf4f95-e9bd-44f0-a147-e4187ede791f",
   "metadata": {},
   "source": [
    "## 4.Warehouse Performance:"
   ]
  },
  {
   "cell_type": "markdown",
   "id": "9a6a11b1-b9d9-4ab6-b494-3e4ac95b98bc",
   "metadata": {},
   "source": [
    "* Which warehouse block has the highest percentage of on-time deliveries?\n",
    "* Are there significant differences in delivery times based on the warehouse block?"
   ]
  },
  {
   "cell_type": "code",
   "execution_count": 28,
   "id": "0c7a6d6c-9bb7-4d44-950e-581d2b048777",
   "metadata": {},
   "outputs": [
    {
     "data": {
      "text/html": [
       "<div>\n",
       "<style scoped>\n",
       "    .dataframe tbody tr th:only-of-type {\n",
       "        vertical-align: middle;\n",
       "    }\n",
       "\n",
       "    .dataframe tbody tr th {\n",
       "        vertical-align: top;\n",
       "    }\n",
       "\n",
       "    .dataframe thead th {\n",
       "        text-align: right;\n",
       "    }\n",
       "</style>\n",
       "<table border=\"1\" class=\"dataframe\">\n",
       "  <thead>\n",
       "    <tr style=\"text-align: right;\">\n",
       "      <th></th>\n",
       "      <th>Warehouse_block</th>\n",
       "      <th>Reached.on.Time_Y.N</th>\n",
       "    </tr>\n",
       "  </thead>\n",
       "  <tbody>\n",
       "    <tr>\n",
       "      <th>0</th>\n",
       "      <td>D</td>\n",
       "      <td>1</td>\n",
       "    </tr>\n",
       "    <tr>\n",
       "      <th>1</th>\n",
       "      <td>F</td>\n",
       "      <td>1</td>\n",
       "    </tr>\n",
       "    <tr>\n",
       "      <th>2</th>\n",
       "      <td>A</td>\n",
       "      <td>1</td>\n",
       "    </tr>\n",
       "    <tr>\n",
       "      <th>3</th>\n",
       "      <td>B</td>\n",
       "      <td>1</td>\n",
       "    </tr>\n",
       "    <tr>\n",
       "      <th>4</th>\n",
       "      <td>C</td>\n",
       "      <td>1</td>\n",
       "    </tr>\n",
       "    <tr>\n",
       "      <th>...</th>\n",
       "      <td>...</td>\n",
       "      <td>...</td>\n",
       "    </tr>\n",
       "    <tr>\n",
       "      <th>10994</th>\n",
       "      <td>A</td>\n",
       "      <td>1</td>\n",
       "    </tr>\n",
       "    <tr>\n",
       "      <th>10995</th>\n",
       "      <td>B</td>\n",
       "      <td>0</td>\n",
       "    </tr>\n",
       "    <tr>\n",
       "      <th>10996</th>\n",
       "      <td>C</td>\n",
       "      <td>0</td>\n",
       "    </tr>\n",
       "    <tr>\n",
       "      <th>10997</th>\n",
       "      <td>F</td>\n",
       "      <td>0</td>\n",
       "    </tr>\n",
       "    <tr>\n",
       "      <th>10998</th>\n",
       "      <td>D</td>\n",
       "      <td>0</td>\n",
       "    </tr>\n",
       "  </tbody>\n",
       "</table>\n",
       "<p>10999 rows × 2 columns</p>\n",
       "</div>"
      ],
      "text/plain": [
       "      Warehouse_block  Reached.on.Time_Y.N\n",
       "0                   D                    1\n",
       "1                   F                    1\n",
       "2                   A                    1\n",
       "3                   B                    1\n",
       "4                   C                    1\n",
       "...               ...                  ...\n",
       "10994               A                    1\n",
       "10995               B                    0\n",
       "10996               C                    0\n",
       "10997               F                    0\n",
       "10998               D                    0\n",
       "\n",
       "[10999 rows x 2 columns]"
      ]
     },
     "execution_count": 28,
     "metadata": {},
     "output_type": "execute_result"
    }
   ],
   "source": [
    "train4 = train[['Warehouse_block','Reached.on.Time_Y.N']]\n",
    "train4"
   ]
  },
  {
   "cell_type": "code",
   "execution_count": 29,
   "id": "c0566cfa-ce3f-40fb-8111-3a4777672ba6",
   "metadata": {},
   "outputs": [],
   "source": [
    "Ware = train4[train4['Reached.on.Time_Y.N'] == 1]\n",
    "House = train4[train4['Reached.on.Time_Y.N'] == 0]"
   ]
  },
  {
   "cell_type": "code",
   "execution_count": 30,
   "id": "1ea53ebc-68e2-4469-8de0-8a663e8d7185",
   "metadata": {},
   "outputs": [
    {
     "data": {
      "text/plain": [
       "Warehouse_block\n",
       "F    33.4%\n",
       "B    16.8%\n",
       "D    16.7%\n",
       "C    16.7%\n",
       "A    16.4%\n",
       "Name: proportion, dtype: object"
      ]
     },
     "execution_count": 30,
     "metadata": {},
     "output_type": "execute_result"
    }
   ],
   "source": [
    "Ware['Warehouse_block'].value_counts(normalize=True).mul(100).round(1).astype(str) + '%'"
   ]
  },
  {
   "cell_type": "code",
   "execution_count": 31,
   "id": "ec2aac1f-ad7c-4b93-8398-13bfc2108298",
   "metadata": {},
   "outputs": [
    {
     "data": {
      "image/png": "[encoded data removed]",
      "text/plain": [
       "<Figure size 800x800 with 1 Axes>"
      ]
     },
     "metadata": {},
     "output_type": "display_data"
    }
   ],
   "source": [
    "ontime_percentages = Ware['Warehouse_block'].value_counts(normalize=True).mul(100)\n",
    "plt.figure(figsize=(8, 8))\n",
    "plt.pie(ontime_percentages, labels=ontime_percentages.index, autopct='%1.1f%%', startangle=90, colors=['Green', 'Yellow', 'Orange', 'Red', 'Darkred'])\n",
    "plt.title('Warehouse Block Distribution', fontsize=14)\n",
    "plt.show()\n"
   ]
  },
  {
   "cell_type": "code",
   "execution_count": 32,
   "id": "ede7b7eb-e72c-4923-924d-5822194a7e1d",
   "metadata": {},
   "outputs": [
    {
     "data": {
      "text/plain": [
       "Warehouse_block\n",
       "F    33.2%\n",
       "A    17.1%\n",
       "C    16.7%\n",
       "D    16.6%\n",
       "B    16.4%\n",
       "Name: proportion, dtype: object"
      ]
     },
     "execution_count": 32,
     "metadata": {},
     "output_type": "execute_result"
    }
   ],
   "source": [
    "House['Warehouse_block'].value_counts(normalize=True).mul(100).round(1).astype(str) + '%'"
   ]
  },
  {
   "cell_type": "code",
   "execution_count": 33,
   "id": "43b0d431-353a-4cfe-a4b4-0c6b18e1435a",
   "metadata": {},
   "outputs": [
    {
     "data": {
      "image/png": "[encoded data removed]",
      "text/plain": [
       "<Figure size 800x800 with 1 Axes>"
      ]
     },
     "metadata": {},
     "output_type": "display_data"
    }
   ],
   "source": [
    "late_percentages = House['Warehouse_block'].value_counts(normalize=True).mul(100)\n",
    "\n",
    "plt.figure(figsize=(8, 8))\n",
    "plt.pie(late_percentages, labels=late_percentages.index, autopct='%1.1f%%', startangle=90, colors=['Darkred', 'Red', 'Orange', 'Yellow', 'Green'])\n",
    "plt.title('Warehouse Block Distribution', fontsize=14)\n",
    "plt.show()\n"
   ]
  },
  {
   "cell_type": "code",
   "execution_count": null,
   "id": "50c12386-e946-4632-9237-ebafa8d45a87",
   "metadata": {},
   "outputs": [],
   "source": []
  }
 ],
 "metadata": {
  "kernelspec": {
   "display_name": "Python 3 (ipykernel)",
   "language": "python",
   "name": "python3"
  },
  "language_info": {
   "codemirror_mode": {
    "name": "ipython",
    "version": 3
   },
   "file_extension": ".py",
   "mimetype": "text/x-python",
   "name": "python",
   "nbconvert_exporter": "python",
   "pygments_lexer": "ipython3",
   "version": "3.12.4"
  }
 },
 "nbformat": 4,
 "nbformat_minor": 5
}
